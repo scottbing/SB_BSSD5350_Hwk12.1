{
 "cells": [
  {
   "cell_type": "markdown",
   "id": "technological-nothing",
   "metadata": {},
   "source": [
    "## Taken from: https://blog.keras.io/building-autoencoders-in-keras.html"
   ]
  },
  {
   "cell_type": "code",
   "execution_count": 1,
   "id": "vertical-processing",
   "metadata": {},
   "outputs": [],
   "source": [
    "import tensorflow as tf\n",
    "import matplotlib.pyplot as plt\n",
    "from tensorflow import keras\n",
    "from tensorflow.keras import layers"
   ]
  },
  {
   "cell_type": "code",
   "execution_count": 2,
   "id": "alternate-judgment",
   "metadata": {},
   "outputs": [],
   "source": [
    "mnist = tf.keras.datasets.mnist\n",
    "\n",
    "(x_train, y_train), (x_test, y_test) = mnist.load_data()\n",
    "x_train, x_test = x_train / 255.0, x_test / 255.0\n",
    "\n",
    "#x_train = x_train.reshape(60000, 28*28)\n",
    "#x_test = x_test.reshape(10000, 28*28)"
   ]
  },
  {
   "cell_type": "code",
   "execution_count": 3,
   "id": "foreign-concert",
   "metadata": {},
   "outputs": [],
   "source": [
    "def noisy(button):\n",
    "    noise_factor = noise.value\n",
    "    x_train_noisy = x_train + noise_factor * np.random.normal(loc=0.0, scale=1.0, size=x_train.shape) \n",
    "    x_test_noisy = x_test + noise_factor * np.random.normal(loc=0.0, scale=1.0, size=x_test.shape) \n",
    "\n",
    "    x_train_noisy = np.clip(x_train_noisy, 0., 1.)\n",
    "    x_test_noisy = np.clip(x_test_noisy, 0., 1.)\n",
    "\n",
    "    n = 10\n",
    "    plt.figure(figsize=(20, 2))\n",
    "    plt.title(\"Linear graph\")\n",
    "    for i in range(1, n + 1):\n",
    "        ax = plt.subplot(1, n, i)\n",
    "        plt.imshow(x_test_noisy[i].reshape(28, 28))\n",
    "        plt.gray()\n",
    "        ax.get_xaxis().set_visible(False)\n",
    "        ax.get_yaxis().set_visible(False)\n",
    "    plt.title(\"\\n\\nNoise Factor = {:.2f}\".format(noise_factor), size=20)\n",
    "    plt.show()\n",
    "\n",
    "    input_img = keras.Input(shape=(28, 28, 1))\n",
    "\n",
    "    x = layers.Conv2D(32, (3, 3), activation='relu', padding='same')(input_img)\n",
    "    x = layers.MaxPooling2D((2, 2), padding='same')(x)\n",
    "    x = layers.Conv2D(32, (3, 3), activation='relu', padding='same')(x)\n",
    "    encoded = layers.MaxPooling2D((2, 2), padding='same')(x)\n",
    "\n",
    "    # At this point the representation is (7, 7, 32)\n",
    "\n",
    "    x = layers.Conv2D(32, (3, 3), activation='relu', padding='same')(encoded)\n",
    "    x = layers.UpSampling2D((2, 2))(x)\n",
    "    x = layers.Conv2D(32, (3, 3), activation='relu', padding='same')(x)\n",
    "    x = layers.UpSampling2D((2, 2))(x)\n",
    "    decoded = layers.Conv2D(1, (3, 3), activation='sigmoid', padding='same')(x)\n",
    "\n",
    "    autoencoder = keras.Model(input_img, decoded)\n",
    "    autoencoder.compile(optimizer='adam', loss='binary_crossentropy')\n",
    "\n",
    "    autoencoder.fit(x_train_noisy, x_train,\n",
    "                    epochs=iterations.value,\n",
    "                    batch_size=128,\n",
    "                    shuffle=True)\n",
    "\n",
    "    autoencoder.evaluate(x_test_noisy, x_test, verbose=2)\n",
    "    \n",
    "    decoded_imgs = autoencoder.predict(x_test)\n",
    "\n",
    "    n = 10\n",
    "    plt.figure(figsize=(20, 4))\n",
    "    for i in range(1, n + 1):\n",
    "        # Display original\n",
    "        ax = plt.subplot(2, n, i)\n",
    "        plt.imshow(x_test_noisy[i].reshape(28, 28))\n",
    "        plt.gray()\n",
    "        ax.get_xaxis().set_visible(False)\n",
    "        ax.get_yaxis().set_visible(False)\n",
    "\n",
    "        # Display reconstruction\n",
    "        ax = plt.subplot(2, n, i + n)\n",
    "        plt.imshow(decoded_imgs[i].reshape(28, 28))\n",
    "        plt.gray()\n",
    "        ax.get_xaxis().set_visible(False)\n",
    "        ax.get_yaxis().set_visible(False)\n",
    "    #plt.title(\"\\n\\nNoise Factor = {:.1f}\".format(noise_factor), size=20)\n",
    "    plt.title(\"\\n\\nNoise Factor = {:.2f} Epochs  = {:d}\".format(noise_factor, iterations.value), size=20)\n",
    "    plt.show()"
   ]
  },
  {
   "cell_type": "code",
   "execution_count": 4,
   "id": "attempted-photographer",
   "metadata": {},
   "outputs": [
    {
     "data": {
      "application/vnd.jupyter.widget-view+json": {
       "model_id": "6a18bc7742cd4e3fa88aba5c9f9eec71",
       "version_major": 2,
       "version_minor": 0
      },
      "text/plain": [
       "HBox(children=(FloatText(value=0.5, description='Noise Factor:'), IntText(value=5, description='Epochs:'), But…"
      ]
     },
     "metadata": {},
     "output_type": "display_data"
    }
   ],
   "source": [
    "from ipywidgets import widgets, Layout\n",
    "noise = widgets.FloatText(value=0.5, description='Noise Factor:', disabled=False)\n",
    "iterations = widgets.IntText(value=5, description='Epochs:', disabled=False)\n",
    "submit = widgets.Button(description='Submit')\n",
    "submit.on_click(noisy)\n",
    "widgets.HBox([noise, iterations, submit])"
   ]
  },
  {
   "cell_type": "code",
   "execution_count": null,
   "id": "stuck-bachelor",
   "metadata": {},
   "outputs": [],
   "source": []
  }
 ],
 "metadata": {
  "kernelspec": {
   "display_name": "Python 3",
   "language": "python",
   "name": "python3"
  },
  "language_info": {
   "codemirror_mode": {
    "name": "ipython",
    "version": 3
   },
   "file_extension": ".py",
   "mimetype": "text/x-python",
   "name": "python",
   "nbconvert_exporter": "python",
   "pygments_lexer": "ipython3",
   "version": "3.7.9"
  },
  "varInspector": {
   "cols": {
    "lenName": 16,
    "lenType": 16,
    "lenVar": 40
   },
   "kernels_config": {
    "python": {
     "delete_cmd_postfix": "",
     "delete_cmd_prefix": "del ",
     "library": "var_list.py",
     "varRefreshCmd": "print(var_dic_list())"
    },
    "r": {
     "delete_cmd_postfix": ") ",
     "delete_cmd_prefix": "rm(",
     "library": "var_list.r",
     "varRefreshCmd": "cat(var_dic_list()) "
    }
   },
   "types_to_exclude": [
    "module",
    "function",
    "builtin_function_or_method",
    "instance",
    "_Feature"
   ],
   "window_display": false
  }
 },
 "nbformat": 4,
 "nbformat_minor": 5
}
